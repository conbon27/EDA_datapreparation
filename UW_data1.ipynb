{
 "cells": [
  {
   "cell_type": "markdown",
   "id": "ca6221c1",
   "metadata": {},
   "source": [
    "## Underway data\n",
    "Underway data provided by MI, its a research vessel data.<br>\n",
    "**Key Points about data**\n",
    "1. SST and Salinity readings is for the surface and are random points data as reading taken by ships.<br>\n",
    "2. Data is been collected for every 10seconds/day (Temporal resolution).<br>\n",
    "   But as our aim is daily resolution, averaging needed to be done for each day.\n",
    "3. Underway data will the base for the data preparation for SST.<br>\n",
    "4. Data covers for Ireland and around UK region, but we will use data only for the bounding box region,<br>\n",
    "   **[-14, -5, 49, 56]**"
   ]
  },
  {
   "cell_type": "markdown",
   "id": "7a23e6fd",
   "metadata": {},
   "source": [
    "**Reading the original data using pandas**<br>\n",
    "To know the shape, datatype of each column etc about the data.\n"
   ]
  },
  {
   "cell_type": "code",
   "execution_count": null,
   "id": "639610bc",
   "metadata": {},
   "outputs": [],
   "source": [
    "import pandas as pd\n",
    "import numpy as np\n",
    "import matplotlib.pyplot as plt\n",
    "import seaborn as sns\n",
    "\n",
    "#Load the data into a pandas dataframe\n",
    "df=pd.read_csv('original_UW_data/UW_data.csv',names=[\"Datetime\", \"Lon\", \"Lat\", \"Temperature\",\"Salinity\"])\n",
    "\n",
    "#Check the shape of dataframe\n",
    "print('Shape of Original underway data:',df.shape)\n",
    "\n",
    "#Check the data types of each column and make sure the datetime column is of the datetime format\n",
    "print('Datatype of each column: ',df.dtypes)\n"
   ]
  },
  {
   "cell_type": "markdown",
   "id": "55643724",
   "metadata": {},
   "source": [
    "**Drop Salinity Column**\n",
    "As for now parameter of focus is SST.<br>"
   ]
  },
  {
   "cell_type": "code",
   "execution_count": null,
   "id": "17c02f51",
   "metadata": {},
   "outputs": [],
   "source": [
    "#Dropping Salinity Column and saving a new file only for temperature\n",
    "df=df.drop(columns='Salinity')\n",
    "df.to_csv('original_UW_data/UW_tempdata.csv',index=None)"
   ]
  },
  {
   "cell_type": "code",
   "execution_count": null,
   "id": "14942fd0",
   "metadata": {},
   "outputs": [],
   "source": [
    "#Reading the SST file\n",
    "df=pd.read_csv('original_UW_data/UW_tempdata.csv')\n",
    "df"
   ]
  },
  {
   "cell_type": "code",
   "execution_count": null,
   "id": "8e2f8a49",
   "metadata": {},
   "outputs": [],
   "source": [
    "df.dtypes"
   ]
  },
  {
   "cell_type": "markdown",
   "id": "9d6ddd55",
   "metadata": {},
   "source": [
    "**Datetime has object datatype, converting it to datetime64[ns].**<br>"
   ]
  },
  {
   "cell_type": "code",
   "execution_count": null,
   "id": "2becece1",
   "metadata": {},
   "outputs": [],
   "source": [
    "#Converting to datetime format from object to datetime64[ns]\n",
    "df['Datetime'] = pd.to_datetime(df['Datetime'])"
   ]
  },
  {
   "cell_type": "code",
   "execution_count": null,
   "id": "f0ebe2a5",
   "metadata": {},
   "outputs": [],
   "source": [
    "df.dtypes"
   ]
  },
  {
   "cell_type": "code",
   "execution_count": null,
   "id": "cad81389",
   "metadata": {},
   "outputs": [],
   "source": [
    "#Check the first five rows of the dataframe using the head() function\n",
    "df.head()"
   ]
  },
  {
   "cell_type": "markdown",
   "id": "1a6a1f80",
   "metadata": {},
   "source": [
    "### Missing data\n",
    "Missing data is -999.0, there are 1232 missing data, we can drop these\n",
    "Original data has (54585495, 4), removing missing data it should be (54584263,4)"
   ]
  },
  {
   "cell_type": "code",
   "execution_count": null,
   "id": "08f17257",
   "metadata": {},
   "outputs": [],
   "source": [
    "#Check the missing values\n",
    "#print('Missing values:',df.isnull().sum())\n",
    "m=df[df['Temperature']== -999.0]\n",
    "m.shape\n",
    "m"
   ]
  },
  {
   "cell_type": "markdown",
   "id": "f3ac9a7a",
   "metadata": {},
   "source": [
    "**Dropping the rows having -999.0 value.**"
   ]
  },
  {
   "cell_type": "code",
   "execution_count": null,
   "id": "0fbe069f",
   "metadata": {},
   "outputs": [],
   "source": [
    "# Drop rows where temperature is -999.0\n",
    "df1 = df[df['Temperature'] != -999.0]\n",
    "\n",
    "# Save the updated DataFrame\n",
    "df1.to_csv(\"original_UW_data/UW_data_r.csv\", index=None)"
   ]
  },
  {
   "cell_type": "code",
   "execution_count": null,
   "id": "2ce626f0",
   "metadata": {},
   "outputs": [],
   "source": [
    "#Read the csv file where -999.0 values is removed\n",
    "df1=pd.read_csv(\"original_UW_data/UW_data_r.csv\")\n",
    "df1.shape"
   ]
  },
  {
   "cell_type": "code",
   "execution_count": null,
   "id": "e9e8145d",
   "metadata": {},
   "outputs": [],
   "source": [
    "df1.info()"
   ]
  },
  {
   "cell_type": "code",
   "execution_count": null,
   "id": "d3486be9",
   "metadata": {},
   "outputs": [],
   "source": [
    "#Check for outliers in the temperature column using a boxplot\n",
    "plt.figure(figsize=[18,10])\n",
    "sns.set(style=\"darkgrid\")\n",
    "plt.rcParams.update({'font.size': 20, 'font.weight': 'bold'})\n",
    "sns.boxplot(x=df1['Temperature'],width=0.5,linewidth=2,color='darkgoldenrod')\n",
    "plt.xlabel('Temperature', fontsize=14, fontweight='bold')\n",
    "plt.title('Boxplot of Temperature', fontsize=14, fontweight='bold')\n",
    "plt.show()"
   ]
  },
  {
   "cell_type": "code",
   "execution_count": null,
   "id": "32c9ff46",
   "metadata": {},
   "outputs": [],
   "source": [
    "#Plot the distribution of the temperature column using a histogram\n",
    "plt.figure(figsize=[18,10])\n",
    "plt.rcParams.update({'font.size': 20, 'font.weight': 'bold'})\n",
    "plt.hist(df1['Temperature'], bins=20, color='darkgoldenrod')\n",
    "plt.xlabel('Temperature', fontsize=14, fontweight='bold')\n",
    "plt.ylabel('Count', fontsize=14, fontweight='bold')\n",
    "plt.show()"
   ]
  },
  {
   "cell_type": "code",
   "execution_count": null,
   "id": "a7410683",
   "metadata": {},
   "outputs": [],
   "source": [
    "# Set font size and style\n",
    "plt.figure(figsize=[18,10])\n",
    "plt.rcParams.update({'font.size': 20, 'font.weight': 'bold'})\n",
    "plt.plot(df1['Temperature'],color='darkgoldenrod')\n",
    "plt.xlabel('Datetime', fontsize=14, fontweight='bold')\n",
    "plt.ylabel('Temperature', fontsize=14, fontweight='bold')\n",
    "plt.show()"
   ]
  },
  {
   "cell_type": "code",
   "execution_count": null,
   "id": "d9a11c1a",
   "metadata": {},
   "outputs": [],
   "source": [
    "# Convert datetime column to datetime format\n",
    "df['Datetime'] = pd.to_datetime(df['Datetime'])\n",
    "\n",
    "# Filter the data based only on a particular date\n",
    "date_filter = df[df['Datetime'].dt.date == pd.to_datetime('1994-03-25').date()]\n",
    "\n",
    "# Print the filtered data\n",
    "print(date_filter)"
   ]
  },
  {
   "cell_type": "code",
   "execution_count": null,
   "id": "0e3bb9bf",
   "metadata": {},
   "outputs": [],
   "source": [
    "#The data is for the larger area than required for us within the bounding box \n",
    "#Next we will filter the data for the considered Ireland bounding box region\n",
    "import cartopy.crs as ccrs\n",
    "import cartopy as cart\n",
    "%matplotlib inline\n",
    "\n",
    "\n",
    "fig = plt.figure(figsize=[18,10])\n",
    "ax = plt.axes(projection=ccrs.PlateCarree())\n",
    "\n",
    "plt.scatter(df1.Lon, df1.Lat, s=10, color='darkgoldenrod', marker='*',\n",
    "             transform=ccrs.PlateCarree())\n",
    "\n",
    "ax.coastlines(resolution='50m')\n",
    "ax.add_feature(cart.feature.LAND, zorder=100, edgecolor='k')\n",
    "plt.ylabel ('Latitude')\n",
    "plt.xlabel ('Longitude')\n",
    "\n",
    "plt.show()"
   ]
  },
  {
   "cell_type": "code",
   "execution_count": null,
   "id": "be9fe807",
   "metadata": {},
   "outputs": [],
   "source": [
    "#Making the change in the csv file and saving that change to the csv file,now the file stores\n",
    "\n",
    "df1=df1[df1['Lon']>=-14]\n",
    "df1=df1[df1['Lon']<=-5]\n",
    "df1=df1[df1['Lat']<=56]\n",
    "df1=df1[df1['Lat']>=49]\n",
    "#df.shape\n",
    "\n",
    "df1.to_csv('original_UW_data/UW_Data_r_Ireland.csv',index=None)#The file for only Ireland region with bounding box[-14,-5,49,56]"
   ]
  },
  {
   "cell_type": "code",
   "execution_count": null,
   "id": "f3a81fcd",
   "metadata": {},
   "outputs": [],
   "source": [
    "import pandas as pd\n",
    "\n"
   ]
  },
  {
   "cell_type": "code",
   "execution_count": null,
   "id": "f94885bd",
   "metadata": {},
   "outputs": [],
   "source": [
    "import pandas as pd\n",
    "import matplotlib.pyplot as plt\n",
    "import cartopy.crs as ccrs\n",
    "import cartopy.feature as cfeature\n",
    "\n",
    "# Define the longitude and latitude limits for your region of interest\n",
    "lon_min, lon_max, lat_min, lat_max = -14, -5, 49, 56\n",
    "\n",
    "# Define the name of your region of interest\n",
    "region = 'My Region'\n",
    "\n",
    "# Load the data into a pandas DataFrame\n",
    "df = pd.read_csv('daily_averages.csv')\n",
    "\n",
    "# Get the list of unique years and months in the data\n",
    "years = df['year'].unique()\n",
    "months = df['month'].unique()\n",
    "\n",
    "# Loop over the years and months and create a plot for each combination\n",
    "for year in years:\n",
    "    for month in months:\n",
    "        # Filter the data for the given year and month\n",
    "        data = df[(df['year'] == year) & (df['month'] == month)]\n",
    "\n",
    "        # Create a new figure with a single subplot\n",
    "        fig, ax = plt.subplots(1, 1, figsize=(15, 10), subplot_kw={'projection': ccrs.PlateCarree()})\n",
    "\n",
    "        # Define the projection and extent of the map\n",
    "        proj = ccrs.PlateCarree()\n",
    "        extent = [lon_min, lon_max, lat_min, lat_max]\n",
    "        \n",
    "        #Add ocean feature to the map\n",
    "        ax.add_feature(cfeature.OCEAN, zorder=1)\n",
    "        \n",
    "        # Plot the temperature data on the map\n",
    "        sc = ax.scatter(data['Lon'], data['Lat'], c=data['Temperature'], cmap='plasma', transform=proj,s=120)\n",
    "        \n",
    "        ########################################################\n",
    "        ####################Annotation##########################\n",
    "        # Add annotations with the date to each plotted data point\n",
    "        #for i, row in data.iterrows():\n",
    "            #ax.annotate('{:04d}-{:02d}-{:02d}'.format(int(row['year']), int(row['month']), int(row['day'])),\n",
    "                        #xy=(row['Lon'], row['Lat']), xytext=(3, 3),\n",
    "                        #textcoords='offset points', fontsize=9)\n",
    "            \n",
    "        # Add the land and ocean features to the map\n",
    "        ax.coastlines(resolution='50m')\n",
    "        ax.add_feature(cart.feature.LAND, zorder=100, edgecolor='k')\n",
    "\n",
    "        # Add a colorbar to the map\n",
    "        cbar = plt.colorbar(sc, ax=ax, shrink=0.9)\n",
    "        cbar.set_label('Temperature (°C)',fontsize=14,fontweight='bold')\n",
    "\n",
    "        # Set the title and extent of the map\n",
    "        ax.set_title('{}-{}'.format(year, month),fontsize=14,fontweight='bold')\n",
    "        ax.set_extent(extent)\n",
    "\n",
    "        # Show the plot\n",
    "        plt.show()\n",
    "\n",
    "        # Close the figure\n",
    "        #plt.close(fig)"
   ]
  },
  {
   "cell_type": "code",
   "execution_count": null,
   "id": "e1ded11d",
   "metadata": {},
   "outputs": [],
   "source": [
    "#Reading the SST file only for the considered bounding box region\n",
    "import pandas as pd\n",
    "import matplotlib.pyplot as plt\n",
    "import cartopy.crs as ccrs\n",
    "import cartopy as cart\n",
    "import cartopy.feature as cfeature\n",
    "import seaborn as sns\n",
    "df1=pd.read_csv('original_UW_data/UW_data_r_Ireland.csv')"
   ]
  },
  {
   "cell_type": "code",
   "execution_count": null,
   "id": "85980acd",
   "metadata": {},
   "outputs": [],
   "source": [
    "#Original shape :(54585495, 4)\n",
    "#Now filtering BB and -999.0(45710933, 4)\n",
    "df1.shape"
   ]
  },
  {
   "cell_type": "code",
   "execution_count": null,
   "id": "4fee5a7c",
   "metadata": {},
   "outputs": [],
   "source": [
    "#Filtering done for the BB\n",
    "plt.figure(figsize=[18,10])\n",
    "ax = plt.axes(projection=ccrs.PlateCarree())\n",
    "\n",
    "plt.scatter(df1.Lon, df1.Lat, s=10, color='darkgoldenrod', marker='*',\n",
    "             transform=ccrs.PlateCarree())\n",
    "\n",
    "ax.coastlines(resolution='50m')\n",
    "ax.add_feature(cart.feature.LAND, zorder=100, edgecolor='k')\n",
    "plt.ylabel ('Latitude')\n",
    "plt.xlabel ('Longitude')\n",
    "\n",
    "plt.show()"
   ]
  },
  {
   "cell_type": "code",
   "execution_count": null,
   "id": "52c37367",
   "metadata": {},
   "outputs": [],
   "source": [
    "\n",
    "# convert datetime column to datetime format\n",
    "df1['Datetime'] = pd.to_datetime(df1['Datetime'])\n",
    "\n",
    "# extract year from datetime column\n",
    "df1['Year'] = df1['Datetime'].dt.year\n",
    "\n",
    "# create a list of years\n",
    "years = list(df1['Year'].unique())\n",
    "\n",
    "# set figure size\n",
    "figsize=(15,10)\n",
    "\n",
    "# create a loop to plot each year's data\n",
    "for year in years:\n",
    "    # filter the data by year\n",
    "    data = df1[df1['Year'] == year]\n",
    "\n",
    "    # set up the map projection\n",
    "    ax = plt.axes(projection=ccrs.PlateCarree())\n",
    "\n",
    "    #Add ocean feature to the map\n",
    "    ax.add_feature(cfeature.OCEAN, zorder=1)\n",
    "\n",
    "    # plot the temperature data\n",
    "    plt.scatter(data['Lon'], data['Lat'], c=data['Temperature'], s=10, cmap='plasma', transform=ccrs.PlateCarree())\n",
    "\n",
    "    # add coastlines to the map\n",
    "    #ax.add_feature(cfeature.COASTLINE)\n",
    "    ######################################\n",
    "   \n",
    "    ax.coastlines(resolution='50m')\n",
    "    ax.add_feature(cart.feature.LAND, zorder=100, edgecolor='k')\n",
    "    #############################################\n",
    "    # set the colorbar\n",
    "    cbar = plt.colorbar(shrink=0.5)\n",
    "    cbar.ax.set_ylabel('Temperature (°C)', fontsize=14)\n",
    "\n",
    "    # set the title\n",
    "    plt.title(f'Temperature Data for {year}', fontsize=16, fontweight='bold')\n",
    "\n",
    "    # set x and y axis labels\n",
    "    plt.xlabel('Longitude', fontsize=14, fontweight='bold')\n",
    "    plt.ylabel('Latitude', fontsize=14, fontweight='bold')\n",
    "\n",
    "    # set the figure size\n",
    "    plt.gcf().set_size_inches(figsize)\n",
    "\n",
    "    # show the plot\n",
    "    plt.show()"
   ]
  },
  {
   "cell_type": "markdown",
   "id": "d5b0d027",
   "metadata": {},
   "source": [
    "**Calculating daily averages over the temperature,longitude and latitude**<br>\n",
    "**Creating new files holding the average for each day**<br>\n",
    "**Data is from 1994-2022**<br>"
   ]
  },
  {
   "cell_type": "markdown",
   "id": "e533885a",
   "metadata": {},
   "source": []
  },
  {
   "cell_type": "code",
   "execution_count": null,
   "id": "e03b88a9",
   "metadata": {},
   "outputs": [],
   "source": [
    "\n",
    "# Convert the 'datetime' column to a pandas datetime object\n",
    "df1['Datetime'] = pd.to_datetime(df1['Datetime'])\n",
    "\n",
    "# Group the data by year, month, and day\n",
    "grouped = df1.groupby([df1['Datetime'].dt.year, df1['Datetime'].dt.month, df1['Datetime'].dt.day])\n",
    "\n",
    "# Calculate the daily average of temperature, longitude, and latitude\n",
    "daily_averages = grouped.agg({'Temperature': 'mean', 'Lon': 'mean', 'Lat': 'mean'})\n",
    "\n",
    "# Rename the index to 'year', 'month', and 'day'\n",
    "daily_averages.index.names = ['year', 'month', 'day']\n",
    "\n",
    "# Reset the index to convert the grouped DataFrame to a regular DataFrame\n",
    "daily_averages = daily_averages.reset_index()\n",
    "\n",
    "# Print the resulting DataFrame\n",
    "print(daily_averages)"
   ]
  },
  {
   "cell_type": "code",
   "execution_count": null,
   "id": "ad80a1a2",
   "metadata": {},
   "outputs": [],
   "source": [
    "daily_averages=daily_averages.to_csv('daily_averages.csv',index=None)"
   ]
  },
  {
   "cell_type": "code",
   "execution_count": null,
   "id": "9be77b41",
   "metadata": {},
   "outputs": [],
   "source": [
    "import pandas as pd\n",
    "import matplotlib.pyplot as plt\n",
    "import cartopy.crs as ccrs\n",
    "import cartopy.feature as cfeature\n",
    "\n",
    "# Define the longitude and latitude limits for your region of interest\n",
    "lon_min, lon_max, lat_min, lat_max = -14, -5, 49, 56\n",
    "\n",
    "# Define the name of your region of interest\n",
    "region = 'My Region'\n",
    "\n",
    "# Load the data into a pandas DataFrame\n",
    "df = pd.read_csv('daily_averages.csv')\n",
    "\n",
    "# Get the list of unique years and months in the data\n",
    "years = df['year'].unique()\n",
    "months = df['month'].unique()\n",
    "\n",
    "# Loop over the years and months and create a plot for each combination\n",
    "for year in years:\n",
    "    for month in months:\n",
    "        # Filter the data for the given year and month\n",
    "        data = df[(df['year'] == year) & (df['month'] == month)]\n",
    "\n",
    "        # Create a new figure with a single subplot\n",
    "        fig, ax = plt.subplots(1, 1, figsize=(15, 10), subplot_kw={'projection': ccrs.PlateCarree()})\n",
    "\n",
    "        # Define the projection and extent of the map\n",
    "        proj = ccrs.PlateCarree()\n",
    "        extent = [lon_min, lon_max, lat_min, lat_max]\n",
    "        \n",
    "        #Add ocean feature to the map\n",
    "        ax.add_feature(cfeature.OCEAN, zorder=1)\n",
    "        \n",
    "        # Plot the temperature data on the map\n",
    "        sc = ax.scatter(data['Lon'], data['Lat'], c=data['Temperature'],marker='^', cmap='plasma', transform=proj,s=120)\n",
    "        \n",
    "        ########################################################\n",
    "        ####################Annotation##########################\n",
    "        # Add annotations with the date to each plotted data point\n",
    "        #for i, row in data.iterrows():\n",
    "            #ax.annotate('{:04d}-{:02d}-{:02d}'.format(int(row['year']), int(row['month']), int(row['day'])),\n",
    "                        #xy=(row['Lon'], row['Lat']), xytext=(3, 3),\n",
    "                        #textcoords='offset points', fontsize=9)\n",
    "            \n",
    "        # Add the land and ocean features to the map\n",
    "        ax.coastlines(resolution='50m')\n",
    "        ax.add_feature(cart.feature.LAND, zorder=100, edgecolor='k')\n",
    "\n",
    "        # Add a colorbar to the map\n",
    "        cbar = plt.colorbar(sc, ax=ax, shrink=0.9)\n",
    "        cbar.set_label('Temperature (°C)',fontsize=14,fontweight='bold')\n",
    "\n",
    "        # Set the title and extent of the map\n",
    "        ax.set_title('{}-{}'.format(year, month),fontsize=14,fontweight='bold')\n",
    "        ax.set_extent(extent)\n",
    "\n",
    "        # Show the plot\n",
    "        plt.show()\n",
    "\n",
    "        # Close the figure\n",
    "        #plt.close(fig)"
   ]
  },
  {
   "cell_type": "markdown",
   "id": "35c6942b",
   "metadata": {},
   "source": [
    "**Available date is from 1994/03 to 2022/12 (YYYY/MM)**<br>\n",
    "**Therefore we should have total of 10533 days data but we only have for 6464 days**<br>\n",
    "**1994/03 it has 306 days excluding January and February**<br>\n",
    "**There are 7 leap years(1996,2000,2004,2008,2012,2016,2020)**<br>\n",
    "**Total Calculation 1994/03 to 2022/12**<br>\n",
    "  28 * 365 + 7(leap years) + 306 (from the year 1994) = 10220 + 7 +306 =10533 days <br>\n",
    "  \n",
    "**Total missing data (10533-6464)=4069 (38.63%) data is missing as per days**<br>\n",
    "**We also have really sparse data**"
   ]
  },
  {
   "cell_type": "code",
   "execution_count": null,
   "id": "50b139a3",
   "metadata": {},
   "outputs": [],
   "source": [
    "import pandas as pd\n",
    "import matplotlib.pyplot as plt\n",
    "import numpy as np\n",
    "\n",
    "# Load the data into a pandas DataFrame\n",
    "df = pd.read_csv('daily_averages.csv')\n",
    "\n",
    "# Get the list of unique years in the data\n",
    "years = df['year'].unique()\n",
    "\n",
    "# Loop over the years and create subplots for each month within each year\n",
    "for year in years:\n",
    "    # Filter the data for the given year\n",
    "    data = df[df['year'] == year]\n",
    "\n",
    "    # Replace NaN temperature values with the mean temperature value\n",
    "    mean_temp = data['Temperature'].mean()\n",
    "    data['Temperature'] = data['Temperature'].fillna(mean_temp)\n",
    "\n",
    "    # Get the list of unique months in the data for the given year\n",
    "    months = data['month'].unique()\n",
    "\n",
    "    # Create a new figure with a grid of subplots for each month\n",
    "    fig, axs = plt.subplots(nrows=3, ncols=4, figsize=(12, 8), sharex=True, sharey=True)\n",
    "\n",
    "    # Flatten the 2D array of subplots into a 1D array for easier indexing\n",
    "    axs = axs.flatten()\n",
    "\n",
    "    # Loop over the months and plot the temperature data on the corresponding subplot\n",
    "    for i, month in enumerate(months):\n",
    "        # Filter the data for the given month\n",
    "        month_data = data[data['month'] == month]\n",
    "\n",
    "        # Get the corresponding subplot and plot the data\n",
    "        ax = axs[i]\n",
    "        ax.scatter(month_data['day'], month_data['Temperature'], color='darkgoldenrod', s=20)\n",
    "\n",
    "        # Set the x-axis label and limits\n",
    "        ax.set_xlabel('Day', fontsize=12, fontstyle='italic')\n",
    "        ax.set_xticks(range(1, 32, 5))\n",
    "        ax.set_xlim([0, 32])\n",
    "\n",
    "        # Set the y-axis label\n",
    "        ax.set_ylabel('Temperature', fontsize=14, fontstyle='italic',fontweight='bold')\n",
    "\n",
    "        # Set the title of the subplot\n",
    "        ax.set_title('{}-{}'.format(year, month), fontsize=14, fontweight='bold')\n",
    "\n",
    "        # Add a legend to indicate what the markers represent\n",
    "        #ax.legend(['Temperature'], loc='upper left', fontsize=10)\n",
    "         # Add grid to the plot\n",
    "        ax.grid(True)\n",
    "\n",
    "    # Add a title for the entire plot\n",
    "    fig.suptitle(str(year), fontsize=16, fontweight='bold')\n",
    "\n",
    "    # Adjust the spacing between subplots\n",
    "    fig.tight_layout()\n",
    "\n",
    "    # Show the plot\n",
    "    plt.show()"
   ]
  }
 ],
 "metadata": {
  "hide_input": false,
  "kernelspec": {
   "display_name": "Python 3 (ipykernel)",
   "language": "python",
   "name": "python3"
  },
  "language_info": {
   "codemirror_mode": {
    "name": "ipython",
    "version": 3
   },
   "file_extension": ".py",
   "mimetype": "text/x-python",
   "name": "python",
   "nbconvert_exporter": "python",
   "pygments_lexer": "ipython3",
   "version": "3.9.7"
  }
 },
 "nbformat": 4,
 "nbformat_minor": 5
}
